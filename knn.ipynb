{
 "cells": [
  {
   "cell_type": "code",
   "execution_count": 171,
   "metadata": {},
   "outputs": [],
   "source": [
    "import numpy as np\n",
    "import pandas as pd\n",
    "import matplotlib as plt\n",
    "import seaborn as sns\n",
    "%matplotlib notebook"
   ]
  },
  {
   "cell_type": "code",
   "execution_count": 172,
   "metadata": {},
   "outputs": [],
   "source": [
    "dataset=pd.read_csv(\"preprocessed2.csv\")"
   ]
  },
  {
   "cell_type": "code",
   "execution_count": 173,
   "metadata": {},
   "outputs": [],
   "source": [
    "dataset = dataset.rename(columns = {'Number of Bedrooms': 'No_of_Bedrooms'}, inplace = False)\n",
    "dataset = dataset.rename(columns = {'Property Type': 'Property_Type'}, inplace = False)"
   ]
  },
  {
   "cell_type": "code",
   "execution_count": 174,
   "metadata": {},
   "outputs": [
    {
     "data": {
      "text/html": [
       "<div>\n",
       "<style scoped>\n",
       "    .dataframe tbody tr th:only-of-type {\n",
       "        vertical-align: middle;\n",
       "    }\n",
       "\n",
       "    .dataframe tbody tr th {\n",
       "        vertical-align: top;\n",
       "    }\n",
       "\n",
       "    .dataframe thead th {\n",
       "        text-align: right;\n",
       "    }\n",
       "</style>\n",
       "<table border=\"1\" class=\"dataframe\">\n",
       "  <thead>\n",
       "    <tr style=\"text-align: right;\">\n",
       "      <th></th>\n",
       "      <th>Unnamed: 0</th>\n",
       "      <th>TLIST(A1)</th>\n",
       "      <th>Year</th>\n",
       "      <th>C03004V03625</th>\n",
       "      <th>VALUE</th>\n",
       "    </tr>\n",
       "  </thead>\n",
       "  <tbody>\n",
       "    <tr>\n",
       "      <th>count</th>\n",
       "      <td>243516.000000</td>\n",
       "      <td>243516.000000</td>\n",
       "      <td>243516.000000</td>\n",
       "      <td>243516.000000</td>\n",
       "      <td>242970.000000</td>\n",
       "    </tr>\n",
       "    <tr>\n",
       "      <th>mean</th>\n",
       "      <td>121757.500000</td>\n",
       "      <td>2014.000000</td>\n",
       "      <td>2014.000000</td>\n",
       "      <td>139445.627803</td>\n",
       "      <td>926.736487</td>\n",
       "    </tr>\n",
       "    <tr>\n",
       "      <th>std</th>\n",
       "      <td>70297.158413</td>\n",
       "      <td>3.741665</td>\n",
       "      <td>3.741665</td>\n",
       "      <td>17471.757676</td>\n",
       "      <td>364.186646</td>\n",
       "    </tr>\n",
       "    <tr>\n",
       "      <th>min</th>\n",
       "      <td>0.000000</td>\n",
       "      <td>2008.000000</td>\n",
       "      <td>2008.000000</td>\n",
       "      <td>110000.000000</td>\n",
       "      <td>272.920000</td>\n",
       "    </tr>\n",
       "    <tr>\n",
       "      <th>25%</th>\n",
       "      <td>60878.750000</td>\n",
       "      <td>2011.000000</td>\n",
       "      <td>2011.000000</td>\n",
       "      <td>124600.000000</td>\n",
       "      <td>635.469385</td>\n",
       "    </tr>\n",
       "    <tr>\n",
       "      <th>50%</th>\n",
       "      <td>121757.500000</td>\n",
       "      <td>2014.000000</td>\n",
       "      <td>2014.000000</td>\n",
       "      <td>137850.000000</td>\n",
       "      <td>808.812197</td>\n",
       "    </tr>\n",
       "    <tr>\n",
       "      <th>75%</th>\n",
       "      <td>182636.250000</td>\n",
       "      <td>2017.000000</td>\n",
       "      <td>2017.000000</td>\n",
       "      <td>155400.000000</td>\n",
       "      <td>1182.669215</td>\n",
       "    </tr>\n",
       "    <tr>\n",
       "      <th>max</th>\n",
       "      <td>243515.000000</td>\n",
       "      <td>2020.000000</td>\n",
       "      <td>2020.000000</td>\n",
       "      <td>171200.000000</td>\n",
       "      <td>6522.480000</td>\n",
       "    </tr>\n",
       "  </tbody>\n",
       "</table>\n",
       "</div>"
      ],
      "text/plain": [
       "          Unnamed: 0      TLIST(A1)           Year   C03004V03625  \\\n",
       "count  243516.000000  243516.000000  243516.000000  243516.000000   \n",
       "mean   121757.500000    2014.000000    2014.000000  139445.627803   \n",
       "std     70297.158413       3.741665       3.741665   17471.757676   \n",
       "min         0.000000    2008.000000    2008.000000  110000.000000   \n",
       "25%     60878.750000    2011.000000    2011.000000  124600.000000   \n",
       "50%    121757.500000    2014.000000    2014.000000  137850.000000   \n",
       "75%    182636.250000    2017.000000    2017.000000  155400.000000   \n",
       "max    243515.000000    2020.000000    2020.000000  171200.000000   \n",
       "\n",
       "               VALUE  \n",
       "count  242970.000000  \n",
       "mean      926.736487  \n",
       "std       364.186646  \n",
       "min       272.920000  \n",
       "25%       635.469385  \n",
       "50%       808.812197  \n",
       "75%      1182.669215  \n",
       "max      6522.480000  "
      ]
     },
     "execution_count": 174,
     "metadata": {},
     "output_type": "execute_result"
    }
   ],
   "source": [
    "dataset.describe()"
   ]
  },
  {
   "cell_type": "code",
   "execution_count": 175,
   "metadata": {},
   "outputs": [],
   "source": [
    "dataset.dropna(inplace=True)"
   ]
  },
  {
   "cell_type": "code",
   "execution_count": 176,
   "metadata": {},
   "outputs": [
    {
     "data": {
      "text/html": [
       "<div>\n",
       "<style scoped>\n",
       "    .dataframe tbody tr th:only-of-type {\n",
       "        vertical-align: middle;\n",
       "    }\n",
       "\n",
       "    .dataframe tbody tr th {\n",
       "        vertical-align: top;\n",
       "    }\n",
       "\n",
       "    .dataframe thead th {\n",
       "        text-align: right;\n",
       "    }\n",
       "</style>\n",
       "<table border=\"1\" class=\"dataframe\">\n",
       "  <thead>\n",
       "    <tr style=\"text-align: right;\">\n",
       "      <th></th>\n",
       "      <th>Unnamed: 0</th>\n",
       "      <th>TLIST(A1)</th>\n",
       "      <th>Year</th>\n",
       "      <th>C03004V03625</th>\n",
       "      <th>VALUE</th>\n",
       "    </tr>\n",
       "  </thead>\n",
       "  <tbody>\n",
       "    <tr>\n",
       "      <th>count</th>\n",
       "      <td>242970.000000</td>\n",
       "      <td>242970.000000</td>\n",
       "      <td>242970.000000</td>\n",
       "      <td>242970.000000</td>\n",
       "      <td>242970.000000</td>\n",
       "    </tr>\n",
       "    <tr>\n",
       "      <th>mean</th>\n",
       "      <td>121757.260674</td>\n",
       "      <td>2014.000000</td>\n",
       "      <td>2014.000000</td>\n",
       "      <td>139411.797753</td>\n",
       "      <td>926.736487</td>\n",
       "    </tr>\n",
       "    <tr>\n",
       "      <th>std</th>\n",
       "      <td>70297.158821</td>\n",
       "      <td>3.741665</td>\n",
       "      <td>3.741665</td>\n",
       "      <td>17476.780742</td>\n",
       "      <td>364.186646</td>\n",
       "    </tr>\n",
       "    <tr>\n",
       "      <th>min</th>\n",
       "      <td>0.000000</td>\n",
       "      <td>2008.000000</td>\n",
       "      <td>2008.000000</td>\n",
       "      <td>110000.000000</td>\n",
       "      <td>272.920000</td>\n",
       "    </tr>\n",
       "    <tr>\n",
       "      <th>25%</th>\n",
       "      <td>60878.250000</td>\n",
       "      <td>2011.000000</td>\n",
       "      <td>2011.000000</td>\n",
       "      <td>124600.000000</td>\n",
       "      <td>635.469385</td>\n",
       "    </tr>\n",
       "    <tr>\n",
       "      <th>50%</th>\n",
       "      <td>121757.500000</td>\n",
       "      <td>2014.000000</td>\n",
       "      <td>2014.000000</td>\n",
       "      <td>137800.000000</td>\n",
       "      <td>808.812197</td>\n",
       "    </tr>\n",
       "    <tr>\n",
       "      <th>75%</th>\n",
       "      <td>182635.750000</td>\n",
       "      <td>2017.000000</td>\n",
       "      <td>2017.000000</td>\n",
       "      <td>155400.000000</td>\n",
       "      <td>1182.669215</td>\n",
       "    </tr>\n",
       "    <tr>\n",
       "      <th>max</th>\n",
       "      <td>243515.000000</td>\n",
       "      <td>2020.000000</td>\n",
       "      <td>2020.000000</td>\n",
       "      <td>171200.000000</td>\n",
       "      <td>6522.480000</td>\n",
       "    </tr>\n",
       "  </tbody>\n",
       "</table>\n",
       "</div>"
      ],
      "text/plain": [
       "          Unnamed: 0      TLIST(A1)           Year   C03004V03625  \\\n",
       "count  242970.000000  242970.000000  242970.000000  242970.000000   \n",
       "mean   121757.260674    2014.000000    2014.000000  139411.797753   \n",
       "std     70297.158821       3.741665       3.741665   17476.780742   \n",
       "min         0.000000    2008.000000    2008.000000  110000.000000   \n",
       "25%     60878.250000    2011.000000    2011.000000  124600.000000   \n",
       "50%    121757.500000    2014.000000    2014.000000  137800.000000   \n",
       "75%    182635.750000    2017.000000    2017.000000  155400.000000   \n",
       "max    243515.000000    2020.000000    2020.000000  171200.000000   \n",
       "\n",
       "               VALUE  \n",
       "count  242970.000000  \n",
       "mean      926.736487  \n",
       "std       364.186646  \n",
       "min       272.920000  \n",
       "25%       635.469385  \n",
       "50%       808.812197  \n",
       "75%      1182.669215  \n",
       "max      6522.480000  "
      ]
     },
     "execution_count": 176,
     "metadata": {},
     "output_type": "execute_result"
    }
   ],
   "source": [
    "dataset.describe()"
   ]
  },
  {
   "cell_type": "code",
   "execution_count": 177,
   "metadata": {},
   "outputs": [],
   "source": [
    "Number_of_Bedrooms\t=pd.get_dummies(dataset['No_of_Bedrooms'])"
   ]
  },
  {
   "cell_type": "code",
   "execution_count": 178,
   "metadata": {},
   "outputs": [],
   "source": [
    "Property_type=pd.get_dummies(dataset['Property_Type'])"
   ]
  },
  {
   "cell_type": "code",
   "execution_count": 179,
   "metadata": {},
   "outputs": [],
   "source": [
    "Location_new=pd.get_dummies(dataset['Location'])"
   ]
  },
  {
   "cell_type": "code",
   "execution_count": 180,
   "metadata": {},
   "outputs": [],
   "source": [
    "dataset=pd.concat([dataset,Location_new,Number_of_Bedrooms,Property_type],axis=1)"
   ]
  },
  {
   "cell_type": "code",
   "execution_count": 181,
   "metadata": {},
   "outputs": [],
   "source": [
    "dataset.drop(['STATISTIC','Statistic','Year','TLIST(A1)','No_of_Bedrooms','C02969V03591','Property_Type','C02970V03592','UNIT','Location','C03004V03625'],axis=1,inplace=True)"
   ]
  },
  {
   "cell_type": "code",
   "execution_count": 182,
   "metadata": {},
   "outputs": [
    {
     "data": {
      "text/html": [
       "<div>\n",
       "<style scoped>\n",
       "    .dataframe tbody tr th:only-of-type {\n",
       "        vertical-align: middle;\n",
       "    }\n",
       "\n",
       "    .dataframe tbody tr th {\n",
       "        vertical-align: top;\n",
       "    }\n",
       "\n",
       "    .dataframe thead th {\n",
       "        text-align: right;\n",
       "    }\n",
       "</style>\n",
       "<table border=\"1\" class=\"dataframe\">\n",
       "  <thead>\n",
       "    <tr style=\"text-align: right;\">\n",
       "      <th></th>\n",
       "      <th>Unnamed: 0</th>\n",
       "      <th>VALUE</th>\n",
       "      <th>check_for_nan</th>\n",
       "      <th>Abbeyfeale, Limerick</th>\n",
       "      <th>Annacotty, Limerick</th>\n",
       "      <th>Arbour Hill, Dublin 7</th>\n",
       "      <th>Ardee, Louth</th>\n",
       "      <th>Arklow, Wicklow</th>\n",
       "      <th>Artane, Dublin 5</th>\n",
       "      <th>Ashbourne, Meath</th>\n",
       "      <th>...</th>\n",
       "      <th>Four plus bed</th>\n",
       "      <th>One bed</th>\n",
       "      <th>Three bed</th>\n",
       "      <th>Two bed</th>\n",
       "      <th>All property types</th>\n",
       "      <th>Apartment</th>\n",
       "      <th>Detached house</th>\n",
       "      <th>Other flats</th>\n",
       "      <th>Semi detached house</th>\n",
       "      <th>Terrace house</th>\n",
       "    </tr>\n",
       "  </thead>\n",
       "  <tbody>\n",
       "    <tr>\n",
       "      <th>0</th>\n",
       "      <td>0</td>\n",
       "      <td>752.60</td>\n",
       "      <td>False</td>\n",
       "      <td>0</td>\n",
       "      <td>0</td>\n",
       "      <td>0</td>\n",
       "      <td>0</td>\n",
       "      <td>0</td>\n",
       "      <td>0</td>\n",
       "      <td>0</td>\n",
       "      <td>...</td>\n",
       "      <td>0</td>\n",
       "      <td>0</td>\n",
       "      <td>0</td>\n",
       "      <td>0</td>\n",
       "      <td>1</td>\n",
       "      <td>0</td>\n",
       "      <td>0</td>\n",
       "      <td>0</td>\n",
       "      <td>0</td>\n",
       "      <td>0</td>\n",
       "    </tr>\n",
       "    <tr>\n",
       "      <th>1</th>\n",
       "      <td>1</td>\n",
       "      <td>797.01</td>\n",
       "      <td>False</td>\n",
       "      <td>0</td>\n",
       "      <td>0</td>\n",
       "      <td>0</td>\n",
       "      <td>0</td>\n",
       "      <td>0</td>\n",
       "      <td>0</td>\n",
       "      <td>0</td>\n",
       "      <td>...</td>\n",
       "      <td>0</td>\n",
       "      <td>0</td>\n",
       "      <td>0</td>\n",
       "      <td>0</td>\n",
       "      <td>1</td>\n",
       "      <td>0</td>\n",
       "      <td>0</td>\n",
       "      <td>0</td>\n",
       "      <td>0</td>\n",
       "      <td>0</td>\n",
       "    </tr>\n",
       "    <tr>\n",
       "      <th>2</th>\n",
       "      <td>2</td>\n",
       "      <td>754.20</td>\n",
       "      <td>False</td>\n",
       "      <td>0</td>\n",
       "      <td>0</td>\n",
       "      <td>0</td>\n",
       "      <td>0</td>\n",
       "      <td>0</td>\n",
       "      <td>0</td>\n",
       "      <td>0</td>\n",
       "      <td>...</td>\n",
       "      <td>0</td>\n",
       "      <td>0</td>\n",
       "      <td>0</td>\n",
       "      <td>0</td>\n",
       "      <td>1</td>\n",
       "      <td>0</td>\n",
       "      <td>0</td>\n",
       "      <td>0</td>\n",
       "      <td>0</td>\n",
       "      <td>0</td>\n",
       "    </tr>\n",
       "    <tr>\n",
       "      <th>3</th>\n",
       "      <td>3</td>\n",
       "      <td>717.01</td>\n",
       "      <td>False</td>\n",
       "      <td>0</td>\n",
       "      <td>0</td>\n",
       "      <td>0</td>\n",
       "      <td>0</td>\n",
       "      <td>0</td>\n",
       "      <td>0</td>\n",
       "      <td>0</td>\n",
       "      <td>...</td>\n",
       "      <td>0</td>\n",
       "      <td>0</td>\n",
       "      <td>0</td>\n",
       "      <td>0</td>\n",
       "      <td>1</td>\n",
       "      <td>0</td>\n",
       "      <td>0</td>\n",
       "      <td>0</td>\n",
       "      <td>0</td>\n",
       "      <td>0</td>\n",
       "    </tr>\n",
       "    <tr>\n",
       "      <th>4</th>\n",
       "      <td>4</td>\n",
       "      <td>571.57</td>\n",
       "      <td>False</td>\n",
       "      <td>0</td>\n",
       "      <td>0</td>\n",
       "      <td>0</td>\n",
       "      <td>0</td>\n",
       "      <td>0</td>\n",
       "      <td>0</td>\n",
       "      <td>0</td>\n",
       "      <td>...</td>\n",
       "      <td>0</td>\n",
       "      <td>0</td>\n",
       "      <td>0</td>\n",
       "      <td>0</td>\n",
       "      <td>1</td>\n",
       "      <td>0</td>\n",
       "      <td>0</td>\n",
       "      <td>0</td>\n",
       "      <td>0</td>\n",
       "      <td>0</td>\n",
       "    </tr>\n",
       "  </tbody>\n",
       "</table>\n",
       "<p>5 rows × 461 columns</p>\n",
       "</div>"
      ],
      "text/plain": [
       "   Unnamed: 0   VALUE  check_for_nan  Abbeyfeale, Limerick  \\\n",
       "0           0  752.60          False                     0   \n",
       "1           1  797.01          False                     0   \n",
       "2           2  754.20          False                     0   \n",
       "3           3  717.01          False                     0   \n",
       "4           4  571.57          False                     0   \n",
       "\n",
       "   Annacotty, Limerick  Arbour Hill, Dublin 7  Ardee, Louth  Arklow, Wicklow  \\\n",
       "0                    0                      0             0                0   \n",
       "1                    0                      0             0                0   \n",
       "2                    0                      0             0                0   \n",
       "3                    0                      0             0                0   \n",
       "4                    0                      0             0                0   \n",
       "\n",
       "   Artane, Dublin 5  Ashbourne, Meath  ...  Four plus bed  One bed  Three bed  \\\n",
       "0                 0                 0  ...              0        0          0   \n",
       "1                 0                 0  ...              0        0          0   \n",
       "2                 0                 0  ...              0        0          0   \n",
       "3                 0                 0  ...              0        0          0   \n",
       "4                 0                 0  ...              0        0          0   \n",
       "\n",
       "   Two bed  All property types  Apartment  Detached house  Other flats  \\\n",
       "0        0                   1          0               0            0   \n",
       "1        0                   1          0               0            0   \n",
       "2        0                   1          0               0            0   \n",
       "3        0                   1          0               0            0   \n",
       "4        0                   1          0               0            0   \n",
       "\n",
       "   Semi detached house  Terrace house  \n",
       "0                    0              0  \n",
       "1                    0              0  \n",
       "2                    0              0  \n",
       "3                    0              0  \n",
       "4                    0              0  \n",
       "\n",
       "[5 rows x 461 columns]"
      ]
     },
     "execution_count": 182,
     "metadata": {},
     "output_type": "execute_result"
    }
   ],
   "source": [
    "dataset.head()"
   ]
  },
  {
   "cell_type": "code",
   "execution_count": 183,
   "metadata": {},
   "outputs": [
    {
     "name": "stdout",
     "output_type": "stream",
     "text": [
      "<class 'pandas.core.frame.DataFrame'>\n",
      "Int64Index: 242970 entries, 0 to 243515\n",
      "Columns: 461 entries, Unnamed: 0 to Terrace house\n",
      "dtypes: bool(1), float64(1), int64(1), uint8(458)\n",
      "memory usage: 111.9 MB\n"
     ]
    }
   ],
   "source": [
    "dataset.info()"
   ]
  },
  {
   "cell_type": "code",
   "execution_count": 185,
   "metadata": {},
   "outputs": [],
   "source": [
    "#Train data\n",
    "X=dataset.drop('VALUE',axis=1)\n",
    "Y=dataset['VALUE']"
   ]
  },
  {
   "cell_type": "code",
   "execution_count": 186,
   "metadata": {},
   "outputs": [],
   "source": [
    "from sklearn.model_selection import train_test_split"
   ]
  },
  {
   "cell_type": "code",
   "execution_count": 187,
   "metadata": {},
   "outputs": [],
   "source": [
    "X_train, X_test, Y_train, Y_test = train_test_split(X,Y, test_size=.25, random_state=42)"
   ]
  },
  {
   "cell_type": "code",
   "execution_count": 188,
   "metadata": {},
   "outputs": [
    {
     "name": "stdout",
     "output_type": "stream",
     "text": [
      "(182227, 460)\n",
      "(60743, 460)\n",
      "(182227,)\n",
      "(60743,)\n"
     ]
    }
   ],
   "source": [
    "print(X_train.shape)\n",
    "print(X_test.shape)\n",
    "print(Y_train.shape)\n",
    "print(Y_test.shape)"
   ]
  },
  {
   "cell_type": "code",
   "execution_count": 189,
   "metadata": {},
   "outputs": [],
   "source": [
    "from sklearn.neighbors import KNeighborsRegressor"
   ]
  },
  {
   "cell_type": "code",
   "execution_count": 190,
   "metadata": {},
   "outputs": [],
   "source": [
    "KNN = KNeighborsRegressor(\n",
    "    n_neighbors=5, weights='uniform', algorithm='kd_tree', leaf_size=30, p=2, metric='minkowski', n_jobs=-1\n",
    ")"
   ]
  },
  {
   "cell_type": "code",
   "execution_count": 191,
   "metadata": {},
   "outputs": [
    {
     "data": {
      "text/plain": [
       "KNeighborsRegressor(algorithm='kd_tree', n_jobs=-1)"
      ]
     },
     "execution_count": 191,
     "metadata": {},
     "output_type": "execute_result"
    }
   ],
   "source": [
    "KNN.fit(X_train, Y_train)"
   ]
  },
  {
   "cell_type": "code",
   "execution_count": 192,
   "metadata": {},
   "outputs": [],
   "source": [
    "Y_prediction = KNN.predict(X_test)"
   ]
  },
  {
   "cell_type": "code",
   "execution_count": 193,
   "metadata": {},
   "outputs": [
    {
     "data": {
      "text/html": [
       "<div>\n",
       "<style scoped>\n",
       "    .dataframe tbody tr th:only-of-type {\n",
       "        vertical-align: middle;\n",
       "    }\n",
       "\n",
       "    .dataframe tbody tr th {\n",
       "        vertical-align: top;\n",
       "    }\n",
       "\n",
       "    .dataframe thead th {\n",
       "        text-align: right;\n",
       "    }\n",
       "</style>\n",
       "<table border=\"1\" class=\"dataframe\">\n",
       "  <thead>\n",
       "    <tr style=\"text-align: right;\">\n",
       "      <th></th>\n",
       "      <th>Real Values</th>\n",
       "      <th>Predicted Values</th>\n",
       "    </tr>\n",
       "  </thead>\n",
       "  <tbody>\n",
       "    <tr>\n",
       "      <th>164448</th>\n",
       "      <td>478.880000</td>\n",
       "      <td>661.462205</td>\n",
       "    </tr>\n",
       "    <tr>\n",
       "      <th>115790</th>\n",
       "      <td>813.073036</td>\n",
       "      <td>742.477280</td>\n",
       "    </tr>\n",
       "    <tr>\n",
       "      <th>89801</th>\n",
       "      <td>956.210000</td>\n",
       "      <td>1099.538118</td>\n",
       "    </tr>\n",
       "    <tr>\n",
       "      <th>183564</th>\n",
       "      <td>786.079553</td>\n",
       "      <td>815.609642</td>\n",
       "    </tr>\n",
       "    <tr>\n",
       "      <th>203325</th>\n",
       "      <td>588.762038</td>\n",
       "      <td>575.799631</td>\n",
       "    </tr>\n",
       "    <tr>\n",
       "      <th>...</th>\n",
       "      <td>...</td>\n",
       "      <td>...</td>\n",
       "    </tr>\n",
       "    <tr>\n",
       "      <th>1708</th>\n",
       "      <td>690.730000</td>\n",
       "      <td>597.486882</td>\n",
       "    </tr>\n",
       "    <tr>\n",
       "      <th>23657</th>\n",
       "      <td>598.807324</td>\n",
       "      <td>637.288834</td>\n",
       "    </tr>\n",
       "    <tr>\n",
       "      <th>141929</th>\n",
       "      <td>1228.020000</td>\n",
       "      <td>1221.118000</td>\n",
       "    </tr>\n",
       "    <tr>\n",
       "      <th>50467</th>\n",
       "      <td>488.127790</td>\n",
       "      <td>693.036488</td>\n",
       "    </tr>\n",
       "    <tr>\n",
       "      <th>140999</th>\n",
       "      <td>516.707463</td>\n",
       "      <td>566.285113</td>\n",
       "    </tr>\n",
       "  </tbody>\n",
       "</table>\n",
       "<p>60743 rows × 2 columns</p>\n",
       "</div>"
      ],
      "text/plain": [
       "        Real Values  Predicted Values\n",
       "164448   478.880000        661.462205\n",
       "115790   813.073036        742.477280\n",
       "89801    956.210000       1099.538118\n",
       "183564   786.079553        815.609642\n",
       "203325   588.762038        575.799631\n",
       "...             ...               ...\n",
       "1708     690.730000        597.486882\n",
       "23657    598.807324        637.288834\n",
       "141929  1228.020000       1221.118000\n",
       "50467    488.127790        693.036488\n",
       "140999   516.707463        566.285113\n",
       "\n",
       "[60743 rows x 2 columns]"
      ]
     },
     "execution_count": 193,
     "metadata": {},
     "output_type": "execute_result"
    }
   ],
   "source": [
    "df = pd.DataFrame({'Real Values':Y_test, 'Predicted Values':Y_prediction})\n",
    "df"
   ]
  },
  {
   "cell_type": "code",
   "execution_count": 194,
   "metadata": {},
   "outputs": [],
   "source": [
    "from sklearn.metrics import mean_squared_error\n",
    "from sklearn.metrics import mean_absolute_error"
   ]
  },
  {
   "cell_type": "code",
   "execution_count": 197,
   "metadata": {},
   "outputs": [
    {
     "name": "stdout",
     "output_type": "stream",
     "text": [
      "R-Sqaured: 0.769\n"
     ]
    }
   ],
   "source": [
    "print(\"R-Sqaured: %.3f\"\n",
    "      % KNN.score(X_test,Y_test))"
   ]
  },
  {
   "cell_type": "code",
   "execution_count": 198,
   "metadata": {},
   "outputs": [
    {
     "name": "stdout",
     "output_type": "stream",
     "text": [
      "Mean squared error: 30762.910\n",
      "Mean absolute error: 101.954\n"
     ]
    }
   ],
   "source": [
    "print(\"Mean squared error: %.3f\"\n",
    "      % mean_squared_error(Y_test, Y_prediction))  # Test MSE\n",
    "\n",
    "print(\"Mean absolute error: %.3f\"\n",
    "      % mean_absolute_error(Y_test, Y_prediction))"
   ]
  }
 ],
 "metadata": {
  "interpreter": {
   "hash": "fae672e92764b1a133270c2d580a2eca1bf81b9fd12af84d09e6f55ddc156e65"
  },
  "kernelspec": {
   "display_name": "Python 3.9.7 ('base')",
   "language": "python",
   "name": "python3"
  },
  "language_info": {
   "codemirror_mode": {
    "name": "ipython",
    "version": 3
   },
   "file_extension": ".py",
   "mimetype": "text/x-python",
   "name": "python",
   "nbconvert_exporter": "python",
   "pygments_lexer": "ipython3",
   "version": "3.9.7"
  },
  "orig_nbformat": 4
 },
 "nbformat": 4,
 "nbformat_minor": 2
}
